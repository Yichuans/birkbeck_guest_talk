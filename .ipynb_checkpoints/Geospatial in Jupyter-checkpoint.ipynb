{
 "cells": [
  {
   "cell_type": "code",
   "execution_count": 5,
   "metadata": {
    "collapsed": false,
    "scrolled": true
   },
   "outputs": [
    {
     "name": "stdout",
     "output_type": "stream",
     "text": [
      "Collecting ipyparallel\n",
      "  Downloading ipyparallel-6.0.0-py2.py3-none-any.whl (190kB)\n",
      "\u001b[K    100% |████████████████████████████████| 194kB 2.7MB/s ta 0:00:01\n",
      "\u001b[?25hRequirement already satisfied: pyzmq>=13 in /Users/ys/Documents/git/pyenv/lib/python2.7/site-packages (from ipyparallel)\n",
      "Requirement already satisfied: python-dateutil>=2.1 in /Users/ys/Documents/git/pyenv/lib/python2.7/site-packages (from ipyparallel)\n",
      "Requirement already satisfied: decorator in /Users/ys/Documents/git/pyenv/lib/python2.7/site-packages (from ipyparallel)\n",
      "Requirement already satisfied: tornado>=4 in /Users/ys/Documents/git/pyenv/lib/python2.7/site-packages (from ipyparallel)\n",
      "Requirement already satisfied: ipython>=4 in /Users/ys/Documents/git/pyenv/lib/python2.7/site-packages (from ipyparallel)\n",
      "Requirement already satisfied: ipython-genutils in /Users/ys/Documents/git/pyenv/lib/python2.7/site-packages (from ipyparallel)\n",
      "Requirement already satisfied: jupyter-client in /Users/ys/Documents/git/pyenv/lib/python2.7/site-packages (from ipyparallel)\n",
      "Requirement already satisfied: ipykernel in /Users/ys/Documents/git/pyenv/lib/python2.7/site-packages (from ipyparallel)\n",
      "Collecting futures; python_version == \"2.7\" (from ipyparallel)\n",
      "  Downloading futures-3.0.5-py2-none-any.whl\n",
      "Requirement already satisfied: six>=1.5 in /Users/ys/Documents/git/pyenv/lib/python2.7/site-packages (from python-dateutil>=2.1->ipyparallel)\n",
      "Requirement already satisfied: singledispatch in /Users/ys/Documents/git/pyenv/lib/python2.7/site-packages (from tornado>=4->ipyparallel)\n",
      "Requirement already satisfied: certifi in /Users/ys/Documents/git/pyenv/lib/python2.7/site-packages (from tornado>=4->ipyparallel)\n",
      "Requirement already satisfied: backports-abc>=0.4 in /Users/ys/Documents/git/pyenv/lib/python2.7/site-packages (from tornado>=4->ipyparallel)\n",
      "Requirement already satisfied: setuptools>=18.5 in /Users/ys/Documents/git/pyenv/lib/python2.7/site-packages (from ipython>=4->ipyparallel)\n",
      "Requirement already satisfied: pickleshare in /Users/ys/Documents/git/pyenv/lib/python2.7/site-packages (from ipython>=4->ipyparallel)\n",
      "Requirement already satisfied: backports.shutil-get-terminal-size; python_version == \"2.7\" in /Users/ys/Documents/git/pyenv/lib/python2.7/site-packages (from ipython>=4->ipyparallel)\n",
      "Requirement already satisfied: pygments in /Users/ys/Documents/git/pyenv/lib/python2.7/site-packages (from ipython>=4->ipyparallel)\n",
      "Requirement already satisfied: pexpect; sys_platform != \"win32\" in /Users/ys/Documents/git/pyenv/lib/python2.7/site-packages (from ipython>=4->ipyparallel)\n",
      "Requirement already satisfied: pathlib2; python_version == \"2.7\" or python_version == \"3.3\" in /Users/ys/Documents/git/pyenv/lib/python2.7/site-packages (from ipython>=4->ipyparallel)\n",
      "Requirement already satisfied: simplegeneric>0.8 in /Users/ys/Documents/git/pyenv/lib/python2.7/site-packages (from ipython>=4->ipyparallel)\n",
      "Requirement already satisfied: prompt-toolkit<2.0.0,>=1.0.3 in /Users/ys/Documents/git/pyenv/lib/python2.7/site-packages (from ipython>=4->ipyparallel)\n",
      "Requirement already satisfied: traitlets>=4.2 in /Users/ys/Documents/git/pyenv/lib/python2.7/site-packages (from ipython>=4->ipyparallel)\n",
      "Requirement already satisfied: appnope; sys_platform == \"darwin\" in /Users/ys/Documents/git/pyenv/lib/python2.7/site-packages (from ipython>=4->ipyparallel)\n",
      "Requirement already satisfied: jupyter-core in /Users/ys/Documents/git/pyenv/lib/python2.7/site-packages (from jupyter-client->ipyparallel)\n",
      "Requirement already satisfied: ptyprocess>=0.5 in /Users/ys/Documents/git/pyenv/lib/python2.7/site-packages (from pexpect; sys_platform != \"win32\"->ipython>=4->ipyparallel)\n",
      "Requirement already satisfied: wcwidth in /Users/ys/Documents/git/pyenv/lib/python2.7/site-packages (from prompt-toolkit<2.0.0,>=1.0.3->ipython>=4->ipyparallel)\n",
      "Requirement already satisfied: enum34; python_version == \"2.7\" in /Users/ys/Documents/git/pyenv/lib/python2.7/site-packages (from traitlets>=4.2->ipython>=4->ipyparallel)\n",
      "Installing collected packages: futures, ipyparallel\n",
      "Successfully installed futures-3.0.5 ipyparallel-6.0.0\n"
     ]
    }
   ],
   "source": [
    "#!pip install ipyleaflet\n",
    "#!jupyter nbextension enable --py --sys-prefix ipyleaflet\n",
    "#!pip install ipyparallel"
   ]
  },
  {
   "cell_type": "code",
   "execution_count": 4,
   "metadata": {
    "collapsed": true
   },
   "outputs": [],
   "source": [
    "from ipyleaflet import Map\n",
    "\n",
    "Map(center=[34.6252978589571, -77.34580993652344], zoom=10)"
   ]
  },
  {
   "cell_type": "code",
   "execution_count": null,
   "metadata": {
    "collapsed": true
   },
   "outputs": [],
   "source": []
  }
 ],
 "metadata": {
  "kernelspec": {
   "display_name": "Python 2",
   "language": "python",
   "name": "python2"
  },
  "language_info": {
   "codemirror_mode": {
    "name": "ipython",
    "version": 2
   },
   "file_extension": ".py",
   "mimetype": "text/x-python",
   "name": "python",
   "nbconvert_exporter": "python",
   "pygments_lexer": "ipython2",
   "version": "2.7.10"
  },
  "widgets": {
   "state": {
    "b28c78257819436aa9f76a1093e89516": {
     "views": [
      {
       "cell_index": 1
      }
     ]
    }
   },
   "version": "1.2.0"
  }
 },
 "nbformat": 4,
 "nbformat_minor": 2
}
