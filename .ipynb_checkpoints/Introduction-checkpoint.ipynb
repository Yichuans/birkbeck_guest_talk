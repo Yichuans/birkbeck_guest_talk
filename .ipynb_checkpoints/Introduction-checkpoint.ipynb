{
 "cells": [
  {
   "cell_type": "markdown",
   "metadata": {},
   "source": [
    "# About\n",
    "\n",
    "[Python](https://www.python.org) is a popular generic programming language famous for its readability, simplicity in grammar, dynamic typing, and the abundance of libraries. This short talk, aims to provide a brief introduction of Python for data analysis, including geospatial analysis, using tools such as [IPython](https://ipython.org), [Jupyter notebook](http://jupyter.org)(which you are already using), [pandas (Python Data Analysis Library)](http://pandas.pydata.org) and etc.\n",
    "\n",
    "They present a modern open source development/research environment and tools that are *collaborative*, *shareable*, *publishable*, and *reproducible*. The talk will also give you a flavour of how they are currently being used at [IUCN (International Union for Conservation of Nature)](https://www.iucn.org) and [UNEP-WCMC (United Nation Environment Programme World Conservation Monitoring Centre)](https://www.unep-wcmc.org). \n",
    "\n",
    "This notebook aims to provide an outline of this evening talk.\n",
    "\n",
    "The presentation of the talk can be found [here](#)\n",
    "\n",
    "# Prerequisite\n",
    "\n",
    "- Jupyter Notebook and relevant dependencies installed\n",
    "- Comfortable with the command line interface\n",
    "- Some Python programming experience and/or ArcPy\n",
    "\n",
    "# Installation and configuring environment\n",
    "\n",
    "If you already have Jupyter Notebook installed, you can start the notebook server from the command line (Terminal on Mac/Linux, CMD prompt on Windows) by running the following command\n",
    "\n",
    "```\n",
    "jupyter notebook\n",
    "```\n",
    "\n",
    "This will print some information about the notebook server in your terminal, including the URL of the web application (by default, http://127.0.0.1:8888). It will then open your default web browser to this URL.\n",
    "\n",
    "When the notebook opens, you will see the notebook dashboard, which will show a list of the notebooks, files, and subdirectories in the directory where the notebook server was started (as seen in the next section, below). Most of the time, you will want to start a notebook server in the directory where notebooks can be found/to be created. \n",
    "\n",
    "\n",
    "# Outline\n",
    "\n",
    "- [Introduction to IPython and Jupyter notebook](IPython%20and%20Jupyter%20Notebook.ipynb)\n",
    "- [Pandas for data analysis](Pandas%20for%20data%20analysis.ipynb)\n",
    "- [Example: Geospatial in Arcpy](WDPA%20update%20changes.ipynb)\n",
    "- [Extra: WebGIS in a notebook](Geospatial%20in%20Jupyter.ipynb)\n",
    "\n",
    "# References\n",
    "\n",
    "McKinney 2013 Python for Data Analysis, O'Reilly\n",
    "\n",
    "Grus 2015 Data Science from Sratch, O'Reilly\n",
    "\n",
    "IPython [Notebook Basics](https://nbviewer.jupyter.org/github/ipython/ipython/blob/4.0.x/examples/Notebook/Notebook%20Basics.ipynb)\n",
    "\n",
    "Python Data Analysis Library [Pandas](http://pandas.pydata.org)\n",
    "\n",
    "\n"
   ]
  }
 ],
 "metadata": {
  "kernelspec": {
   "display_name": "Python 2",
   "language": "python",
   "name": "python2"
  },
  "language_info": {
   "codemirror_mode": {
    "name": "ipython",
    "version": 2
   },
   "file_extension": ".py",
   "mimetype": "text/x-python",
   "name": "python",
   "nbconvert_exporter": "python",
   "pygments_lexer": "ipython2",
   "version": "2.7.10"
  }
 },
 "nbformat": 4,
 "nbformat_minor": 2
}
