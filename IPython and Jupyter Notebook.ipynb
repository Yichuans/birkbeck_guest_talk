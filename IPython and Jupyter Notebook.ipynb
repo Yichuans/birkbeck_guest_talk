{
 "cells": [
  {
   "cell_type": "markdown",
   "metadata": {},
   "source": [
    "# What is IPython and Jupyter notebook?\n",
    "\n",
    "Think of IPython as a command line application, and Jupyter Notebook (formerly known as IPython Notebook) a web application that sits on top of and communicating with IPython. The end result is an interactive data analysis experience in a modern web browser.\n",
    "\n",
    "You can do many things including:\n",
    "\n",
    "- interactively experiment your code in the notebook\n",
    "- add text and explanation in the notebook, using `markdown`\n",
    "- share the notebook to your collaborators, enabling the replication of your analysis, i.e. reproducible science\n",
    "- export the notebook in many formats (HTML, PDF) etc as read-only copies\n",
    "- add rich media such as image and video in the notebook\n",
    "- collaborate using source control such as `git`"
   ]
  },
  {
   "cell_type": "markdown",
   "metadata": {},
   "source": [
    "# 1. Capabilities"
   ]
  },
  {
   "cell_type": "markdown",
   "metadata": {},
   "source": [
    "## It is still Python\n",
    "\n",
    "It is still the same python and you can execute code as you would in other environments, such as `IDLE` or `PythonWin` or any other interfaces. Once you have finished, press `shift+enter` and the python code inside the cell will run, and the active cursor will automatically move to the next cell."
   ]
  },
  {
   "cell_type": "code",
   "execution_count": 1,
   "metadata": {
    "collapsed": false
   },
   "outputs": [
    {
     "name": "stdout",
     "output_type": "stream",
     "text": [
      "Hello World!\n"
     ]
    }
   ],
   "source": [
    "print('Hello World!')"
   ]
  },
  {
   "cell_type": "markdown",
   "metadata": {},
   "source": [
    "You can use a single line statement or enter lines of code. Double click on the cell and edit the content and re-run the cell."
   ]
  },
  {
   "cell_type": "code",
   "execution_count": 2,
   "metadata": {
    "collapsed": false
   },
   "outputs": [
    {
     "name": "stdout",
     "output_type": "stream",
     "text": [
      "0123456789\n"
     ]
    }
   ],
   "source": [
    "# here is a multi-line example\n",
    "output = ''\n",
    "for a in range(10):\n",
    "    output += str(a)\n",
    "print(output)"
   ]
  },
  {
   "cell_type": "markdown",
   "metadata": {},
   "source": [
    "## Magic commands\n",
    "\n",
    "These commands are what makes IPython/Jupyter Notebook great.\n",
    "\n",
    "For example, you can try use `tab` to autocomplete or after `.` to get a list of methods and attributes."
   ]
  },
  {
   "cell_type": "code",
   "execution_count": 3,
   "metadata": {
    "collapsed": false
   },
   "outputs": [],
   "source": [
    "import os"
   ]
  },
  {
   "cell_type": "code",
   "execution_count": 5,
   "metadata": {
    "collapsed": false
   },
   "outputs": [
    {
     "data": {
      "text/plain": [
       "<function posixpath.basename>"
      ]
     },
     "execution_count": 5,
     "metadata": {},
     "output_type": "execute_result"
    }
   ],
   "source": [
    "os.path.basename"
   ]
  },
  {
   "cell_type": "markdown",
   "metadata": {},
   "source": [
    "Use `?` after a object, for example, variable or function to get help information. Use `??` to get even more information."
   ]
  },
  {
   "cell_type": "code",
   "execution_count": 6,
   "metadata": {
    "collapsed": true
   },
   "outputs": [],
   "source": [
    "os.path.basename?"
   ]
  },
  {
   "cell_type": "code",
   "execution_count": 7,
   "metadata": {
    "collapsed": true
   },
   "outputs": [],
   "source": [
    "os.path.basename??"
   ]
  },
  {
   "cell_type": "markdown",
   "metadata": {},
   "source": [
    "There are cases where one cannot remember the exact name of the function. Wild cards `*` in conjunction with `?` can be very useful"
   ]
  },
  {
   "cell_type": "code",
   "execution_count": 8,
   "metadata": {
    "collapsed": true
   },
   "outputs": [],
   "source": [
    "os.path.*name*?"
   ]
  },
  {
   "cell_type": "markdown",
   "metadata": {},
   "source": [
    "`%` indicates a IPython magic commands. For example `%timeit` can be used to estimate how much time a python command takes"
   ]
  },
  {
   "cell_type": "code",
   "execution_count": 9,
   "metadata": {
    "collapsed": false
   },
   "outputs": [
    {
     "name": "stdout",
     "output_type": "stream",
     "text": [
      "100000 loops, best of 3: 9.08 µs per loop\n",
      "1000000 loops, best of 3: 1.28 µs per loop\n"
     ]
    }
   ],
   "source": [
    "def dummy_list_concat1(a):\n",
    "    out = ''\n",
    "    for each in a:\n",
    "        out += '.' + each\n",
    "    return out\n",
    "        \n",
    "def dummy_list_concat2(a):\n",
    "    return ','.join(a)\n",
    "    \n",
    "dummy_a = map(str, range(100))\n",
    "\n",
    "%timeit dummy_list_concat1(dummy_a)\n",
    "%timeit dummy_list_concat2(dummy_a)"
   ]
  },
  {
   "cell_type": "markdown",
   "metadata": {},
   "source": [
    "`%run` can be used to run a script in the current name space"
   ]
  },
  {
   "cell_type": "code",
   "execution_count": 12,
   "metadata": {
    "collapsed": false
   },
   "outputs": [
    {
     "name": "stdout",
     "output_type": "stream",
     "text": [
      "print('helloworld called from \"helloworld.py\"')"
     ]
    }
   ],
   "source": [
    "!cat helloworld.py"
   ]
  },
  {
   "cell_type": "code",
   "execution_count": 13,
   "metadata": {
    "collapsed": false
   },
   "outputs": [
    {
     "name": "stdout",
     "output_type": "stream",
     "text": [
      "helloworld called from \"helloworld.py\"\n"
     ]
    }
   ],
   "source": [
    "%run helloworld.py"
   ]
  },
  {
   "cell_type": "markdown",
   "metadata": {},
   "source": [
    "`%load` is a very hand function if you want to load script from URL. For example to load http://matplotlib.org/mpl_examples/pylab_examples/subplot_demo.py without having to download it and place it in the workspace.\n",
    "`%load http://matplotlib.org/mpl_examples/pylab_examples/subplot_demo.py`"
   ]
  },
  {
   "cell_type": "code",
   "execution_count": 14,
   "metadata": {
    "collapsed": false
   },
   "outputs": [
    {
     "data": {
      "image/png": "[encoded data removed]",
      "text/plain": [
       "<matplotlib.figure.Figure at 0x101f5e650>"
      ]
     },
     "metadata": {},
     "output_type": "display_data"
    }
   ],
   "source": [
    "# %load http://matplotlib.org/mpl_examples/pylab_examples/subplot_demo.py\n",
    "\"\"\"\n",
    "Simple demo with multiple subplots.\n",
    "\"\"\"\n",
    "import numpy as np\n",
    "import matplotlib.pyplot as plt\n",
    "\n",
    "\n",
    "x1 = np.linspace(0.0, 5.0)\n",
    "x2 = np.linspace(0.0, 2.0)\n",
    "\n",
    "y1 = np.cos(2 * np.pi * x1) * np.exp(-x1)\n",
    "y2 = np.cos(2 * np.pi * x2)\n",
    "\n",
    "plt.subplot(2, 1, 1)\n",
    "plt.plot(x1, y1, 'ko-')\n",
    "plt.title('A tale of 2 subplots')\n",
    "plt.ylabel('Damped oscillation')\n",
    "\n",
    "plt.subplot(2, 1, 2)\n",
    "plt.plot(x2, y2, 'r.-')\n",
    "plt.xlabel('time (s)')\n",
    "plt.ylabel('Undamped')\n",
    "\n",
    "plt.show()\n"
   ]
  },
  {
   "cell_type": "markdown",
   "metadata": {},
   "source": [
    "Another very useful magic command is `%matplotlib`, which enables `matplotlib` to plot interactively in the notebook environment."
   ]
  },
  {
   "cell_type": "markdown",
   "metadata": {},
   "source": [
    "For more information about IPython, an enhanced Interactive Python, see `%quickref`"
   ]
  },
  {
   "cell_type": "code",
   "execution_count": 15,
   "metadata": {
    "collapsed": true
   },
   "outputs": [],
   "source": [
    "%quickref"
   ]
  },
  {
   "cell_type": "markdown",
   "metadata": {},
   "source": [
    "Apart from `%`, you can also call system function using `!`. For example in the Unix system, you can use `!ls` or `!dir` in Windows to get a list of content in the current workspace"
   ]
  },
  {
   "cell_type": "code",
   "execution_count": 28,
   "metadata": {
    "collapsed": false
   },
   "outputs": [
    {
     "name": "stdout",
     "output_type": "stream",
     "text": [
      "Geospatial in Jupyter.ipynb        ecoregion.csv\r\n",
      "IPython and Jupyter Notebook.ipynb ecoregion_clean.csv\r\n",
      "Introduction.ipynb                 helloworld.py\r\n",
      "Pandas for data analysis.ipynb     text?text.md\r\n",
      "axis.jpg\r\n"
     ]
    }
   ],
   "source": [
    "!ls"
   ]
  },
  {
   "cell_type": "markdown",
   "metadata": {},
   "source": [
    "Of course, you can get the best of two worlds by chaining them up."
   ]
  },
  {
   "cell_type": "code",
   "execution_count": 30,
   "metadata": {
    "collapsed": false
   },
   "outputs": [
    {
     "name": "stdout",
     "output_type": "stream",
     "text": [
      "['Geospatial in Jupyter.ipynb', 'IPython and Jupyter Notebook.ipynb', 'Introduction.ipynb', 'Pandas for data analysis.ipynb', 'axis.jpg', 'ecoregion.csv', 'ecoregion_clean.csv', 'helloworld.py', 'text', 'text.md']\n"
     ]
    }
   ],
   "source": [
    "a = !ls\n",
    "print(a)"
   ]
  },
  {
   "cell_type": "markdown",
   "metadata": {},
   "source": [
    "## Modes\n",
    "In the notebook, there are two modes: **edit/insert mode** where you type text into the editor and it is committed to the active cell, and **command/normal mode** where you perform a variety of functions, including: moving the cursor around the notebook, searching, and manipulating the text in the notebook (for example, cutting and pasting). If you are in a cell with a green outline and a blinking cursor, you are in the insert mode. When you press `shift+enter`(run) or `esc`(escape), the editing mode has changed to normal mode, where the active cell is outlined blue and there is no blinking cusor waiting for you to input. Press `enter` and you will be in the insert mode again.\n",
    "\n",
    "The key idea of having modes is to avoid having to use mouse (distraction) that slows down you thinking and let you focus on the code at hand. While you can use the menu to achieve everything, you will find keyboard shortcuts tend to make everything fast. You can view all shortcut by pressing the key `h` while in command mode.\n",
    "\n",
    "Here are a list of most commonly used shortcuts:\n",
    "\n",
    "*In command mode*\n",
    "\n",
    "- `j`: move cursor up, `k`: down: most conveniently located keys. You can also use `up` or `down` key\n",
    "- `a`: adds a new cell above, `b`: a new cell below\n",
    "- `dd`: (press `d` twice) deletes the current highlighted cell\n",
    "- `z`: undo\n",
    "- `enter`: enter edit mode on the current highlighted cell. `esc`: returns to the command mode\n",
    "- `m`: changes the current cell to type markdown and `y`: to code\n",
    "- `s`: saves the notebook and creates a checkpoint"
   ]
  },
  {
   "cell_type": "markdown",
   "metadata": {},
   "source": [
    "# 2. Explanation in the same book\n",
    "\n",
    "Not only can you run python codes in Jupyter Notebook but also you can write explanatory notes as you go alone (or even write your entire report in the notebook!). You can write in [markdown](https://daringfireball.net/projects/markdown/), a popular text-to-HTML conversion language for web writers, or, if you so wish, you can always write HTML."
   ]
  },
  {
   "cell_type": "markdown",
   "metadata": {},
   "source": [
    "Mastering the markdown syntax is surprisingly easy and intuitive. For the purpose of this notebook, the following may be useful:\n",
    "\n",
    "- Headings\n",
    "    ```markdown\n",
    "    # heading 1\n",
    "    ## heading 2\n",
    "    ### heading 3\n",
    "    ```\n",
    "    # heading 1\n",
    "    ## heading 2\n",
    "    ### heading 3 \n",
    "    \n",
    "- Italic and bold\n",
    "    ```markdown\n",
    "    *this is italic*:  \n",
    "    **this is bold**\n",
    "    ```\n",
    "    *this is italic* \n",
    "    \n",
    "    **this is bold**\n",
    "- list\n",
    "    ```markdown\n",
    "    - level one\n",
    "        - level two\n",
    "    ```\n",
    "    - level one\n",
    "        - level two"
   ]
  },
  {
   "cell_type": "markdown",
   "metadata": {},
   "source": [
    "With `MathJax`, you can also freely mix mathematical equations. \n",
    "\n",
    "```\n",
    "\\begin{align}\n",
    "\\dot{x} & = \\sigma(y-x) \\\\\n",
    "\\dot{y} & = \\rho x - y - xz \\\\\n",
    "\\dot{z} & = -\\beta z + xy\n",
    "\\end{align}\n",
    "```\n",
    "will produce\n",
    "\n",
    "\\begin{align}\n",
    "\\dot{x} & = \\sigma(y-x) \\\\\n",
    "\\dot{y} & = \\rho x - y - xz \\\\\n",
    "\\dot{z} & = -\\beta z + xy\n",
    "\\end{align}\n"
   ]
  },
  {
   "cell_type": "markdown",
   "metadata": {},
   "source": [
    "More details can be found [here](https://nbviewer.jupyter.org/github/ipython/ipython/blob/4.0.x/examples/Notebook/Typesetting%20Equations.ipynb)"
   ]
  },
  {
   "cell_type": "markdown",
   "metadata": {},
   "source": [
    "Now let's add some images from the web. The syntax for embedding image is simple:\n",
    "```markdown\n",
    "![this is an image](https://www.python.org/static/img/python-logo@2x.png)\n",
    "```\n",
    "![this is an image](https://www.python.org/static/img/python-logo@2x.png)"
   ]
  },
  {
   "cell_type": "markdown",
   "metadata": {},
   "source": [
    "Or video too"
   ]
  },
  {
   "cell_type": "code",
   "execution_count": 16,
   "metadata": {
    "collapsed": false
   },
   "outputs": [
    {
     "data": {
      "image/jpeg": "[encoded data removed]",
      "text/html": [
       "\n",
       "        <iframe\n",
       "            width=\"400\"\n",
       "            height=\"300\"\n",
       "            src=\"https://www.youtube.com/embed/N4mEzFDjqtA\"\n",
       "            frameborder=\"0\"\n",
       "            allowfullscreen\n",
       "        ></iframe>\n",
       "        "
      ],
      "text/plain": [
       "<IPython.lib.display.YouTubeVideo at 0x101f48cd0>"
      ]
     },
     "execution_count": 16,
     "metadata": {},
     "output_type": "execute_result"
    }
   ],
   "source": [
    "from IPython.display import YouTubeVideo\n",
    "YouTubeVideo('N4mEzFDjqtA')"
   ]
  },
  {
   "cell_type": "markdown",
   "metadata": {},
   "source": [
    "# 3. Exercise"
   ]
  },
  {
   "cell_type": "markdown",
   "metadata": {},
   "source": [
    "## Print the content of a directory\n",
    "\n",
    "You can use any command as long as you are in the notebook environment. HINT: Python's function `os.listdir`, or use IPython's magic function `!ls` (Unix-like) or `!dir` (Windows)"
   ]
  },
  {
   "cell_type": "code",
   "execution_count": null,
   "metadata": {
    "collapsed": true
   },
   "outputs": [],
   "source": []
  },
  {
   "cell_type": "markdown",
   "metadata": {},
   "source": [
    "## Format the following paragraph with headings\n",
    "\n",
    "Also try out bold, italic and linking images and etc."
   ]
  },
  {
   "cell_type": "markdown",
   "metadata": {},
   "source": [
    "The standard Lorem Ipsum passage, used since the 1500s\n",
    "\n",
    "\"Lorem ipsum dolor sit amet, consectetur adipiscing elit, sed do eiusmod tempor incididunt ut labore et dolore magna aliqua. Ut enim ad minim veniam, quis nostrud exercitation ullamco laboris nisi ut aliquip ex ea commodo consequat. Duis aute irure dolor in reprehenderit in voluptate velit esse cillum dolore eu fugiat nulla pariatur. Excepteur sint occaecat cupidatat non proident, sunt in culpa qui officia deserunt mollit anim id est laborum.\"\n",
    "\n",
    "Section 1.10.32 of \"de Finibus Bonorum et Malorum\", written by Cicero in 45 BC\n",
    "\n",
    "\"Sed ut perspiciatis unde omnis iste natus error sit voluptatem accusantium doloremque laudantium, totam rem aperiam, eaque ipsa quae ab illo inventore veritatis et quasi architecto beatae vitae dicta sunt explicabo. Nemo enim ipsam voluptatem quia voluptas sit aspernatur aut odit aut fugit, sed quia consequuntur magni dolores eos qui ratione voluptatem sequi nesciunt. Neque porro quisquam est, qui dolorem ipsum quia dolor sit amet, consectetur, adipisci velit, sed quia non numquam eius modi tempora incidunt ut labore et dolore magnam aliquam quaerat voluptatem. Ut enim ad minima veniam, quis nostrum exercitationem ullam corporis suscipit laboriosam, nisi ut aliquid ex ea commodi consequatur? Quis autem vel eum iure reprehenderit qui in ea voluptate velit esse quam nihil molestiae consequatur, vel illum qui dolorem eum fugiat quo voluptas nulla pariatur?\"\n",
    "\n",
    "1914 translation by H. Rackham\n",
    "\n",
    "\"But I must explain to you how all this mistaken idea of denouncing pleasure and praising pain was born and I will give you a complete account of the system, and expound the actual teachings of the great explorer of the truth, the master-builder of human happiness. No one rejects, dislikes, or avoids pleasure itself, because it is pleasure, but because those who do not know how to pursue pleasure rationally encounter consequences that are extremely painful. Nor again is there anyone who loves or pursues or desires to obtain pain of itself, because it is pain, but because occasionally circumstances occur in which toil and pain can procure him some great pleasure. To take a trivial example, which of us ever undertakes laborious physical exercise, except to obtain some advantage from it? But who has any right to find fault with a man who chooses to enjoy a pleasure that has no annoying consequences, or one who avoids a pain that produces no resultant pleasure?\""
   ]
  }
 ],
 "metadata": {
  "kernelspec": {
   "display_name": "Python 2",
   "language": "python",
   "name": "python2"
  },
  "language_info": {
   "codemirror_mode": {
    "name": "ipython",
    "version": 2
   },
   "file_extension": ".py",
   "mimetype": "text/x-python",
   "name": "python",
   "nbconvert_exporter": "python",
   "pygments_lexer": "ipython2",
   "version": "2.7.10"
  }
 },
 "nbformat": 4,
 "nbformat_minor": 2
}
